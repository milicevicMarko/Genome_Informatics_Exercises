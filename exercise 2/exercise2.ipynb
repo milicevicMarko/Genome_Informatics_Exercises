{
 "cells": [
  {
   "cell_type": "code",
   "execution_count": 74,
   "metadata": {},
   "outputs": [],
   "source": [
    "# pip install pysam\n",
    "import pysam"
   ]
  },
  {
   "cell_type": "code",
   "execution_count": 85,
   "metadata": {},
   "outputs": [],
   "source": [
    "flags = [\"    read paired (0x1)\",\n",
    "\"    read mapped in proper pair (0x2)\",\n",
    "\"    read unmapped (0x4)\",\n",
    "\"    mate unmapped (0x8)\",\n",
    "\"    read reverse strand (0x10)\",\n",
    "\"    mate reverse strand (0x20)\",\n",
    "\"    first in pair (0x40)\",\n",
    "\"    second in pair (0x80)\",\n",
    "\"    not primary alignment (0x100)\",\n",
    "\"    read fails platform/vendor quality checks (0x200)\",\n",
    "\"    read is PCR or optical duplicate (0x400)\",\n",
    "\"    supplementary alignment (0x800)\"]"
   ]
  },
  {
   "cell_type": "code",
   "execution_count": 86,
   "metadata": {},
   "outputs": [
    {
     "name": "stdout",
     "output_type": "stream",
     "text": [
      "C0HVYACXX120402:7:1207:5722:57044\t1187\t20\t9483248\t27\t76M\t20\t9483381\t76\tTTTTCAAACAGTATCTATGCCTGCCAAATGTGAACATATAAAAAAAAACCAGAATGTGCCATTCTGATTTAAACTG\tarray('B', [28, 28, 27, 29, 31, 30, 31, 31, 29, 31, 35, 30, 29, 31, 34, 30, 29, 23, 41, 32, 20, 30, 29, 34, 34, 29, 30, 31, 30, 30, 30, 33, 33, 26, 39, 12, 25, 19, 32, 30, 35, 28, 35, 33, 23, 33, 35, 36, 30, 38, 33, 41, 34, 35, 31, 33, 23, 30, 30, 36, 27, 32, 29, 34, 35, 41, 33, 31, 33, 29, 32, 32, 31, 31, 31, 34])\t[('XA', 'GL000217.1,-110754,76M,1;'), ('BD', 'NNNNNNNNNNNNNNNNNNNNNNNNNNNNNNNNNNNNNNNNNNNNNNNNNNNNNNNNNNNNNNNNNNNNNNNNNNNN'), ('MD', '76'), ('RG', '1'), ('BI', 'NNNNNNNNNNNNNNNNNNNNNNNNNNNNNNNNNNNNNNNNNNNNNNNNNNNNNNNNNNNNNNNNNNNNNNNNNNNN'), ('NM', 0), ('MQ', 27), ('AS', 76), ('XS', 71)]\n"
     ]
    }
   ],
   "source": [
    "# first read\n",
    "tmpfilename = \"/sbgenomics/project-files/merged-tumor.bam\"\n",
    "infile = pysam.AlignmentFile(tmpfilename, \"rb\")\n",
    "for read in infile:\n",
    "    print(read)\n",
    "    break"
   ]
  },
  {
   "cell_type": "code",
   "execution_count": 88,
   "metadata": {},
   "outputs": [
    {
     "name": "stdout",
     "output_type": "stream",
     "text": [
      "Flag field in the first read is: 1187\n",
      "    read paired (0x1)\n",
      "    read mapped in proper pair (0x2)\n",
      "    mate reverse strand (0x20)\n",
      "    second in pair (0x80)\n",
      "    read is PCR or optical duplicate (0x400)\n"
     ]
    }
   ],
   "source": [
    "# flag field \n",
    "infile = pysam.AlignmentFile(tmpfilename, \"rb\")\n",
    "flag = 0\n",
    "for read in infile:\n",
    "    flag = read.flag\n",
    "    break\n",
    "    \n",
    "print(f\"Flag field in the first read is: {read.flag}\")\n",
    "\n",
    "# print flag\n",
    "index = 0\n",
    "while flag > 0:\n",
    "    if (flag & 1 == 1):\n",
    "        print(flags[index])\n",
    "    index += 1\n",
    "    flag >>= 1"
   ]
  },
  {
   "cell_type": "code",
   "execution_count": 89,
   "metadata": {},
   "outputs": [
    {
     "name": "stdout",
     "output_type": "stream",
     "text": [
      "Count of unmapped: 17765\n"
     ]
    }
   ],
   "source": [
    "# count unmapped\n",
    "infile = pysam.AlignmentFile(tmpfilename, \"rb\")\n",
    "cnt = 0\n",
    "for read in infile:\n",
    "    cnt += (read.flag & 0x4) >> 2\n",
    "print(f\"Count of unmapped: {cnt}\")"
   ]
  },
  {
   "cell_type": "code",
   "execution_count": 90,
   "metadata": {},
   "outputs": [
    {
     "name": "stdout",
     "output_type": "stream",
     "text": [
      "Total number of reads: 2921629\n"
     ]
    }
   ],
   "source": [
    "# count reads\n",
    "infile = pysam.AlignmentFile(tmpfilename, \"rb\")\n",
    "cnt = 0\n",
    "for read in infile:\n",
    "    cnt += 1\n",
    "print(f\"Total number of reads: {cnt}\")"
   ]
  },
  {
   "cell_type": "code",
   "execution_count": 91,
   "metadata": {},
   "outputs": [
    {
     "name": "stdout",
     "output_type": "stream",
     "text": [
      "Number of reads with mapping quality 0: 126628\n"
     ]
    }
   ],
   "source": [
    "# mapping quality 0\n",
    "infile = pysam.AlignmentFile(tmpfilename, \"rb\")\n",
    "cnt = 0\n",
    "for read in infile:\n",
    "    cnt += 1 if read.mapping_quality == 0 else 0 \n",
    "print(f\"Number of reads with mapping quality 0: {cnt}\")"
   ]
  },
  {
   "cell_type": "code",
   "execution_count": 92,
   "metadata": {},
   "outputs": [
    {
     "name": "stdout",
     "output_type": "stream",
     "text": [
      "Average mapping quality: 55.914\n"
     ]
    }
   ],
   "source": [
    "# avg mapping quality\n",
    "infile = pysam.AlignmentFile(tmpfilename, \"rb\")\n",
    "cnt = 0\n",
    "avg = 0\n",
    "for read in infile:\n",
    "    cnt += 1\n",
    "    avg += read.mapping_quality\n",
    "\n",
    "print(f\"Average mapping quality: {round(avg/cnt, 3)}\")"
   ]
  },
  {
   "cell_type": "code",
   "execution_count": 93,
   "metadata": {},
   "outputs": [
    {
     "name": "stdout",
     "output_type": "stream",
     "text": [
      "Average mapping quality : 58.447\n"
     ]
    }
   ],
   "source": [
    "# avg mapping quality over 0\n",
    "infile = pysam.AlignmentFile(tmpfilename, \"rb\")\n",
    "cnt = 0\n",
    "avg = 0\n",
    "for read in infile:\n",
    "    if (read.mapping_quality != 0):\n",
    "        cnt += 1\n",
    "        avg += read.mapping_quality\n",
    "\n",
    "print(f\"Average mapping quality : {round(avg/cnt, 3)}\")"
   ]
  },
  {
   "cell_type": "code",
   "execution_count": 94,
   "metadata": {},
   "outputs": [
    {
     "name": "stdout",
     "output_type": "stream",
     "text": [
      "Number of reads: 2921629\n",
      "Number of unmapped reads: 17765\n",
      "Number of unmapping reads with quality 0: 126628\n",
      "Average mapping quality for all the reads: 55.914\n",
      "Average mapping quality if reads with 0 map quality are filtered out: 58.447\n"
     ]
    }
   ],
   "source": [
    "# now to do it all at once \n",
    "infile = pysam.AlignmentFile(tmpfilename, \"rb\")\n",
    "size = 0\n",
    "unmapped_count = 0\n",
    "unmapped_zero_count = 0\n",
    "avg_all = 0\n",
    "avg_filter = 0\n",
    "for read in infile:\n",
    "    size += 1\n",
    "    unmapped_count += (read.flag & 0x4) >> 2\n",
    "    unmapped_zero_count += 1 if (read.mapping_quality == 0) else 0\n",
    "    avg_all += read.mapping_quality \n",
    "    avg_filter += read.mapping_quality if (read.mapping_quality > 0) else 0\n",
    "\n",
    "infile.close()\n",
    "print(f\"Number of reads: {size}\")\n",
    "print(f\"Number of unmapped reads: {unmapped_count}\")\n",
    "print(f\"Number of unmapping reads with quality 0: {unmapped_zero_count}\")\n",
    "print(f\"Average mapping quality for all the reads: {round(avg_all/size, 3)}\")\n",
    "print(f\"Average mapping quality if reads with 0 map quality are filtered out: {round(avg_filter/(size - unmapped_zero_count), 3)}\")"
   ]
  },
  {
   "cell_type": "code",
   "execution_count": null,
   "metadata": {},
   "outputs": [],
   "source": []
  }
 ],
 "metadata": {
  "kernelspec": {
   "display_name": "Python 3",
   "language": "python",
   "name": "python3"
  },
  "language_info": {
   "codemirror_mode": {
    "name": "ipython",
    "version": 3
   },
   "file_extension": ".py",
   "mimetype": "text/x-python",
   "name": "python",
   "nbconvert_exporter": "python",
   "pygments_lexer": "ipython3",
   "version": "3.8.3"
  }
 },
 "nbformat": 4,
 "nbformat_minor": 4
}
